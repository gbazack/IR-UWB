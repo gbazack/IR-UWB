{
  "nbformat": 4,
  "nbformat_minor": 0,
  "metadata": {
    "colab": {
      "name": "DataExtraction_rarfile.ipynb",
      "provenance": [],
      "collapsed_sections": [],
      "toc_visible": true,
      "authorship_tag": "ABX9TyPJDXVngRinPKqOidM5Yuan",
      "include_colab_link": true
    },
    "kernelspec": {
      "name": "python3",
      "display_name": "Python 3"
    }
  },
  "cells": [
    {
      "cell_type": "markdown",
      "metadata": {
        "id": "view-in-github",
        "colab_type": "text"
      },
      "source": [
        "<a href=\"https://colab.research.google.com/github/gbazack/IR-UWB/blob/main/DataExtraction_rarfile.ipynb\" target=\"_parent\"><img src=\"https://colab.research.google.com/assets/colab-badge.svg\" alt=\"Open In Colab\"/></a>"
      ]
    },
    {
      "cell_type": "code",
      "metadata": {
        "colab": {
          "base_uri": "https://localhost:8080/"
        },
        "id": "TFTMzLiSNYoh",
        "outputId": "59715727-7d6c-445e-bcae-58b8243d254f"
      },
      "source": [
        "!pip install rarfile"
      ],
      "execution_count": 39,
      "outputs": [
        {
          "output_type": "stream",
          "text": [
            "Collecting rarfile\n",
            "  Downloading https://files.pythonhosted.org/packages/95/f4/c92fab227c7457e3b76a4096ccb655ded9deac869849cb03afbe55dfdc1e/rarfile-4.0-py3-none-any.whl\n",
            "Installing collected packages: rarfile\n",
            "Successfully installed rarfile-4.0\n"
          ],
          "name": "stdout"
        }
      ]
    },
    {
      "cell_type": "code",
      "metadata": {
        "id": "nr43UJ2Y3a21"
      },
      "source": [
        "#Import libraries\n",
        "import os\n",
        "import rarfile\n",
        "import numpy as np\n",
        "from matplotlib import pyplot as plt"
      ],
      "execution_count": 59,
      "outputs": []
    },
    {
      "cell_type": "code",
      "metadata": {
        "id": "4WQNe80ca4LG"
      },
      "source": [
        "#Create a directory named iruwb_data/\n",
        "dir_path=os.path.join(os.getcwd(),'iruwb_data/')\n",
        "os.mkdir(dir_path)"
      ],
      "execution_count": 2,
      "outputs": []
    },
    {
      "cell_type": "code",
      "metadata": {
        "colab": {
          "base_uri": "https://localhost:8080/"
        },
        "id": "gF0hN3OiQJP_",
        "outputId": "b5ab01bc-3372-4780-ee43-7f283361f35c"
      },
      "source": [
        "#Download the file, rename and save it to content/iruwb_data/\n",
        "#For instance: We want to download the file Data part1_1.rar\n",
        "#We rename it datapart1_1.rar and save it to content/iruwb_data\n",
        "\n",
        "f_path=os.path.join(dir_path,'dataset1_1.rar')\n",
        "\n",
        "!wget -O /content/iruwb_data/dataset1_1.rar  https://github.com/yangxiuzhu777/IR-UWB-Radar-Signal-Dataset-for-Dense-People-Counting/blob/master/Dataset%20part%201_1.rar?raw=true"
      ],
      "execution_count": 51,
      "outputs": [
        {
          "output_type": "stream",
          "text": [
            "--2021-02-28 05:33:52--  https://github.com/yangxiuzhu777/IR-UWB-Radar-Signal-Dataset-for-Dense-People-Counting/blob/master/Dataset%20part%201_1.rar?raw=true\n",
            "Resolving github.com (github.com)... 140.82.114.4\n",
            "Connecting to github.com (github.com)|140.82.114.4|:443... connected.\n",
            "HTTP request sent, awaiting response... 302 Found\n",
            "Location: https://github.com/yangxiuzhu777/IR-UWB-Radar-Signal-Dataset-for-Dense-People-Counting/raw/master/Dataset%20part%201_1.rar [following]\n",
            "--2021-02-28 05:33:52--  https://github.com/yangxiuzhu777/IR-UWB-Radar-Signal-Dataset-for-Dense-People-Counting/raw/master/Dataset%20part%201_1.rar\n",
            "Reusing existing connection to github.com:443.\n",
            "HTTP request sent, awaiting response... 302 Found\n",
            "Location: https://raw.githubusercontent.com/yangxiuzhu777/IR-UWB-Radar-Signal-Dataset-for-Dense-People-Counting/master/Dataset%20part%201_1.rar [following]\n",
            "--2021-02-28 05:33:52--  https://raw.githubusercontent.com/yangxiuzhu777/IR-UWB-Radar-Signal-Dataset-for-Dense-People-Counting/master/Dataset%20part%201_1.rar\n",
            "Resolving raw.githubusercontent.com (raw.githubusercontent.com)... 185.199.111.133, 185.199.109.133, 185.199.110.133, ...\n",
            "Connecting to raw.githubusercontent.com (raw.githubusercontent.com)|185.199.111.133|:443... connected.\n",
            "HTTP request sent, awaiting response... 200 OK\n",
            "Length: 79738929 (76M) [application/octet-stream]\n",
            "Saving to: ‘/content/iruwb_data/dataset1_1.rar’\n",
            "\n",
            "/content/iruwb_data 100%[===================>]  76.04M  72.0MB/s    in 1.1s    \n",
            "\n",
            "2021-02-28 05:33:54 (72.0 MB/s) - ‘/content/iruwb_data/dataset1_1.rar’ saved [79738929/79738929]\n",
            "\n"
          ],
          "name": "stdout"
        }
      ]
    },
    {
      "cell_type": "code",
      "metadata": {
        "id": "6sk0d7yv2LKG"
      },
      "source": [
        "#Decompress and extract the files to content/iruwb_data/\n",
        "rfile=rarfile.RarFile(f_path)\n",
        "rfile.extractall(dir_path)"
      ],
      "execution_count": 53,
      "outputs": []
    },
    {
      "cell_type": "code",
      "metadata": {
        "id": "I6s_0YefIqk0"
      },
      "source": [
        "#Rename the destination directory\n",
        "os.chdir(dir_path)\n",
        "#os.getcwd()\n",
        "os.rename('Dataset part 1_1', 'dataset1_1')"
      ],
      "execution_count": 58,
      "outputs": []
    },
    {
      "cell_type": "code",
      "metadata": {
        "colab": {
          "base_uri": "https://localhost:8080/",
          "height": 128
        },
        "id": "u---216EQ15O",
        "outputId": "43bf0927-c4c9-4e23-afc5-12be3f2b58e9"
      },
      "source": [
        "#List all the files of \"dataset1_1/0/\" directory\n",
        "listfiles=os.listdir('dataset1_1/0/.')\n",
        "listfiles.remove('.ipynb_checkpoints')\n",
        "#os.mkdir('dataset1_1/images/0')\n",
        "file_index=0\n",
        "\n",
        "#Extract and preprocess the data from each file\n",
        "for filename in listfiles:\n",
        "    filename=os.path.join('dataset1_1/0',filename) #create the path to a file\n",
        "    read_file=open(filename, 'r')                  #open the file\n",
        "    load_file=read_file.readlines()                #load data from the file as string (str)\n",
        "    \n",
        "    #Create an array of size x_sise*y_size to \n",
        "    #This array is named \"data\"\n",
        "    x_size=len(load_file)\n",
        "    y_size=int((len(load_file[0])+1)/10)\n",
        "    data=np.zeros((x_size,y_size))\n",
        "    \n",
        "    #Clean the data and convert them to float\n",
        "    for index in range(len(load_file)):\n",
        "        \n",
        "        #Remove special characters\n",
        "        load_file[index].replace('\\t', ' ')\n",
        "        load_file[index].replace('\\n', '')\n",
        "        f=[]\n",
        "        \n",
        "        #For each row of the data, convert 1280 string of size 10 to float\n",
        "        for i in range(0, len(load_file[index]), 10):\n",
        "            f.append(load_file[index][i:i+10])\n",
        "        data[index]=f\n",
        "    \n",
        "    #Display and save each file as an image\n",
        "    imagename=os.path.join('dataset1_1/images/0',listfiles[file_index]+'.png')\n",
        "    file_index=file_index+1\n",
        "    plt.imshow(data)\n",
        "    plt.ylabel('Slow time index')\n",
        "    plt.xlabel('Fast time index')\n",
        "    plt.grid(True)\n",
        "    plt.savefig(imagename)"
      ],
      "execution_count": 71,
      "outputs": [
        {
          "output_type": "display_data",
          "data": {
            "image/png": "[encoded data removed]",
            "text/plain": [
              "<Figure size 432x288 with 1 Axes>"
            ]
          },
          "metadata": {
            "tags": [],
            "needs_background": "light"
          }
        }
      ]
    },
    {
      "cell_type": "code",
      "metadata": {
        "id": "BO6mJa6gG5iR"
      },
      "source": [
        "from google.colab import drive\n",
        "drive.mount('/content/drive')"
      ],
      "execution_count": null,
      "outputs": []
    }
  ]
}